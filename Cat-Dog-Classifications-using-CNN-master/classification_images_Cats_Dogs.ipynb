{
  "nbformat": 4,
  "nbformat_minor": 0,
  "metadata": {
    "colab": {
      "name": "classification_images_Cats_Dogs.ipynb",
      "provenance": [],
      "collapsed_sections": [],
      "authorship_tag": "ABX9TyPNPc+HTFzMMHrzh7ZJobC2",
      "include_colab_link": true
    },
    "kernelspec": {
      "name": "python3",
      "display_name": "Python 3"
    },
    "accelerator": "GPU"
  },
  "cells": [
    {
      "cell_type": "markdown",
      "metadata": {
        "id": "view-in-github",
        "colab_type": "text"
      },
      "source": [
        "<a href=\"https://colab.research.google.com/github/sgupta117/Cat-Dog-Classifications-using-CNN/blob/master/classification_images_Cats_Dogs.ipynb\" target=\"_parent\"><img src=\"https://colab.research.google.com/assets/colab-badge.svg\" alt=\"Open In Colab\"/></a>"
      ]
    },
    {
      "cell_type": "code",
      "metadata": {
        "id": "IhtoQDebr_BH",
        "colab_type": "code",
        "colab": {
          "base_uri": "https://localhost:8080/",
          "height": 122
        },
        "outputId": "c96fcdc2-f04c-4559-c658-4faca859338a"
      },
      "source": [
        "from google.colab import drive\n",
        "drive.mount('/content/drive')"
      ],
      "execution_count": null,
      "outputs": [
        {
          "output_type": "stream",
          "text": [
            "Go to this URL in a browser: https://accounts.google.com/o/oauth2/auth?client_id=947318989803-6bn6qk8qdgf4n4g3pfee6491hc0brc4i.apps.googleusercontent.com&redirect_uri=urn%3aietf%3awg%3aoauth%3a2.0%3aoob&response_type=code&scope=email%20https%3a%2f%2fwww.googleapis.com%2fauth%2fdocs.test%20https%3a%2f%2fwww.googleapis.com%2fauth%2fdrive%20https%3a%2f%2fwww.googleapis.com%2fauth%2fdrive.photos.readonly%20https%3a%2f%2fwww.googleapis.com%2fauth%2fpeopleapi.readonly\n",
            "\n",
            "Enter your authorization code:\n",
            "··········\n",
            "Mounted at /content/drive\n"
          ],
          "name": "stdout"
        }
      ]
    },
    {
      "cell_type": "code",
      "metadata": {
        "id": "i9hahCtXu0ng",
        "colab_type": "code",
        "colab": {}
      },
      "source": [
        "import os\n",
        "import zipfile\n",
        "import tensorflow as tf\n",
        "from tensorflow.keras.optimizers import RMSprop\n",
        "from tensorflow.keras.preprocessing.image import ImageDataGenerator"
      ],
      "execution_count": null,
      "outputs": []
    },
    {
      "cell_type": "code",
      "metadata": {
        "id": "owjJfo1k70Iu",
        "colab_type": "code",
        "colab": {
          "base_uri": "https://localhost:8080/",
          "height": 51
        },
        "outputId": "1eac2413-a6e0-41fe-8e59-182e2ee23e13"
      },
      "source": [
        "\n",
        "import os\n",
        "import zipfile\n",
        "import tensorflow as tf\n",
        "from tensorflow.keras.optimizers import RMSprop\n",
        "from tensorflow.keras.preprocessing.image import ImageDataGenerator\n",
        "\n",
        "model = tf.keras.models.Sequential([\n",
        "    tf.keras.layers.Conv2D(32, (3,3), activation='relu', input_shape=(150, 150, 3)),\n",
        "    tf.keras.layers.MaxPooling2D(2, 2),\n",
        "    tf.keras.layers.Conv2D(64, (3,3), activation='relu'),\n",
        "    tf.keras.layers.MaxPooling2D(2,2),\n",
        "    tf.keras.layers.Conv2D(128, (3,3), activation='relu'),\n",
        "    tf.keras.layers.MaxPooling2D(2,2),\n",
        "    tf.keras.layers.Conv2D(128, (3,3), activation='relu'),\n",
        "    tf.keras.layers.MaxPooling2D(2,2),\n",
        "    tf.keras.layers.Dropout(0.5),\n",
        "    tf.keras.layers.Flatten(),\n",
        "    tf.keras.layers.Dense(512, activation='relu'),\n",
        "    tf.keras.layers.Dense(1, activation='sigmoid')\n",
        "])\n",
        "\n",
        "model.compile(loss='binary_crossentropy',\n",
        "              optimizer=RMSprop(lr=1e-4),\n",
        "              metrics=['acc'])\n",
        "\n",
        "# This code has changed. Now instead of the ImageGenerator just rescaling\n",
        "# the image, we also rotate and do other operations\n",
        "# Updated to do image augmentation\n",
        "train_datagen = ImageDataGenerator(\n",
        "      rescale=1./255,\n",
        "      rotation_range=40,\n",
        "      width_shift_range=0.2,\n",
        "      height_shift_range=0.2,\n",
        "      shear_range=0.2,\n",
        "      zoom_range=0.2,\n",
        "      horizontal_flip=True,\n",
        "      fill_mode='nearest')\n",
        "\n",
        "test_datagen = ImageDataGenerator(rescale=1./255)\n",
        "\n",
        "# Flow training images in batches of 20 using train_datagen generator\n",
        "train_generator = train_datagen.flow_from_directory(\n",
        "        '/content/drive/My Drive/Cat and Dog Classification/train',  # This is the source directory for training images\n",
        "        target_size=(150, 150),  # All images will be resized to 150x150\n",
        "        batch_size=100,\n",
        "        # Since we use binary_crossentropy loss, we need binary labels\n",
        "        class_mode='binary')\n",
        "\n",
        "# Flow validation images in batches of 20 using test_datagen generator\n",
        "validation_generator = test_datagen.flow_from_directory(\n",
        "        '/content/drive/My Drive/Cat and Dog Classification/validation',\n",
        "        target_size=(150, 150),\n",
        "        batch_size=100,\n",
        "        class_mode='binary')\n"
      ],
      "execution_count": null,
      "outputs": [
        {
          "output_type": "stream",
          "text": [
            "Found 2000 images belonging to 2 classes.\n",
            "Found 1007 images belonging to 2 classes.\n"
          ],
          "name": "stdout"
        }
      ]
    },
    {
      "cell_type": "code",
      "metadata": {
        "id": "gQNtfvz29Pu_",
        "colab_type": "code",
        "colab": {
          "base_uri": "https://localhost:8080/",
          "height": 1000
        },
        "outputId": "5fbae0f1-d1d3-4216-9b7b-e61f17fca0c9"
      },
      "source": [
        "history = model.fit(\n",
        "      train_generator,\n",
        "      steps_per_epoch=20,  # 2000 images = batch_size * steps\n",
        "      epochs=100,\n",
        "      validation_data=validation_generator,\n",
        "      validation_steps=10,  # 1000 images = batch_size * steps\n",
        "      verbose=2)"
      ],
      "execution_count": null,
      "outputs": [
        {
          "output_type": "stream",
          "text": [
            "Epoch 1/100\n",
            "20/20 - 19s - loss: 0.6767 - acc: 0.5650 - val_loss: 0.6636 - val_acc: 0.5710\n",
            "Epoch 2/100\n",
            "20/20 - 19s - loss: 0.6764 - acc: 0.5620 - val_loss: 0.6588 - val_acc: 0.5830\n",
            "Epoch 3/100\n",
            "20/20 - 19s - loss: 0.6693 - acc: 0.5700 - val_loss: 0.6921 - val_acc: 0.5220\n",
            "Epoch 4/100\n",
            "20/20 - 19s - loss: 0.6603 - acc: 0.5965 - val_loss: 0.6691 - val_acc: 0.5540\n",
            "Epoch 5/100\n",
            "20/20 - 19s - loss: 0.6586 - acc: 0.6050 - val_loss: 0.6274 - val_acc: 0.6460\n",
            "Epoch 6/100\n",
            "20/20 - 19s - loss: 0.6517 - acc: 0.6035 - val_loss: 0.6305 - val_acc: 0.6380\n",
            "Epoch 7/100\n",
            "20/20 - 19s - loss: 0.6504 - acc: 0.6025 - val_loss: 0.6178 - val_acc: 0.6570\n",
            "Epoch 8/100\n",
            "20/20 - 19s - loss: 0.6415 - acc: 0.6320 - val_loss: 0.6187 - val_acc: 0.6440\n",
            "Epoch 9/100\n",
            "20/20 - 20s - loss: 0.6293 - acc: 0.6335 - val_loss: 0.6053 - val_acc: 0.6750\n",
            "Epoch 10/100\n",
            "20/20 - 19s - loss: 0.6295 - acc: 0.6295 - val_loss: 0.5993 - val_acc: 0.6730\n",
            "Epoch 11/100\n",
            "20/20 - 19s - loss: 0.6252 - acc: 0.6430 - val_loss: 0.6009 - val_acc: 0.6810\n",
            "Epoch 12/100\n",
            "20/20 - 19s - loss: 0.6265 - acc: 0.6265 - val_loss: 0.5927 - val_acc: 0.6780\n",
            "Epoch 13/100\n",
            "20/20 - 19s - loss: 0.6214 - acc: 0.6500 - val_loss: 0.5830 - val_acc: 0.6830\n",
            "Epoch 14/100\n",
            "20/20 - 19s - loss: 0.6083 - acc: 0.6540 - val_loss: 0.6261 - val_acc: 0.6200\n",
            "Epoch 15/100\n",
            "20/20 - 19s - loss: 0.6046 - acc: 0.6620 - val_loss: 0.5762 - val_acc: 0.6990\n",
            "Epoch 16/100\n",
            "20/20 - 19s - loss: 0.6023 - acc: 0.6760 - val_loss: 0.5728 - val_acc: 0.7110\n",
            "Epoch 17/100\n",
            "20/20 - 19s - loss: 0.6031 - acc: 0.6575 - val_loss: 0.5764 - val_acc: 0.7010\n",
            "Epoch 18/100\n",
            "20/20 - 19s - loss: 0.5952 - acc: 0.6775 - val_loss: 0.5653 - val_acc: 0.7000\n",
            "Epoch 19/100\n",
            "20/20 - 19s - loss: 0.5960 - acc: 0.6735 - val_loss: 0.5629 - val_acc: 0.7080\n",
            "Epoch 20/100\n",
            "20/20 - 19s - loss: 0.5877 - acc: 0.6845 - val_loss: 0.5733 - val_acc: 0.7130\n",
            "Epoch 21/100\n",
            "20/20 - 19s - loss: 0.5921 - acc: 0.6825 - val_loss: 0.5638 - val_acc: 0.7190\n",
            "Epoch 22/100\n",
            "20/20 - 19s - loss: 0.5813 - acc: 0.6835 - val_loss: 0.5485 - val_acc: 0.7080\n",
            "Epoch 23/100\n",
            "20/20 - 19s - loss: 0.5833 - acc: 0.6925 - val_loss: 0.5516 - val_acc: 0.7170\n",
            "Epoch 24/100\n",
            "20/20 - 19s - loss: 0.5830 - acc: 0.6960 - val_loss: 0.5475 - val_acc: 0.7160\n",
            "Epoch 25/100\n",
            "20/20 - 20s - loss: 0.5723 - acc: 0.6945 - val_loss: 0.5581 - val_acc: 0.7140\n",
            "Epoch 26/100\n",
            "20/20 - 19s - loss: 0.5592 - acc: 0.7085 - val_loss: 0.5791 - val_acc: 0.6890\n",
            "Epoch 27/100\n",
            "20/20 - 19s - loss: 0.5753 - acc: 0.6895 - val_loss: 0.5452 - val_acc: 0.7130\n",
            "Epoch 28/100\n",
            "20/20 - 19s - loss: 0.5719 - acc: 0.6915 - val_loss: 0.5391 - val_acc: 0.7190\n",
            "Epoch 29/100\n",
            "20/20 - 19s - loss: 0.5629 - acc: 0.7125 - val_loss: 0.5522 - val_acc: 0.7150\n",
            "Epoch 30/100\n",
            "20/20 - 19s - loss: 0.5630 - acc: 0.7105 - val_loss: 0.5397 - val_acc: 0.7190\n",
            "Epoch 31/100\n",
            "20/20 - 19s - loss: 0.5682 - acc: 0.6945 - val_loss: 0.5233 - val_acc: 0.7290\n",
            "Epoch 32/100\n",
            "20/20 - 19s - loss: 0.5561 - acc: 0.7160 - val_loss: 0.5453 - val_acc: 0.7060\n",
            "Epoch 33/100\n",
            "20/20 - 19s - loss: 0.5698 - acc: 0.6945 - val_loss: 0.5618 - val_acc: 0.7190\n",
            "Epoch 34/100\n",
            "20/20 - 19s - loss: 0.5622 - acc: 0.7075 - val_loss: 0.5160 - val_acc: 0.7330\n",
            "Epoch 35/100\n",
            "20/20 - 19s - loss: 0.5467 - acc: 0.7230 - val_loss: 0.5203 - val_acc: 0.7310\n",
            "Epoch 36/100\n",
            "20/20 - 19s - loss: 0.5600 - acc: 0.7065 - val_loss: 0.5765 - val_acc: 0.6940\n",
            "Epoch 37/100\n",
            "20/20 - 19s - loss: 0.5560 - acc: 0.7095 - val_loss: 0.5326 - val_acc: 0.7340\n",
            "Epoch 38/100\n",
            "20/20 - 19s - loss: 0.5557 - acc: 0.7165 - val_loss: 0.5309 - val_acc: 0.7260\n",
            "Epoch 39/100\n",
            "20/20 - 19s - loss: 0.5458 - acc: 0.7250 - val_loss: 0.5428 - val_acc: 0.7160\n",
            "Epoch 40/100\n",
            "20/20 - 19s - loss: 0.5392 - acc: 0.7330 - val_loss: 0.5287 - val_acc: 0.7200\n",
            "Epoch 41/100\n",
            "20/20 - 19s - loss: 0.5478 - acc: 0.7070 - val_loss: 0.5299 - val_acc: 0.7200\n",
            "Epoch 42/100\n",
            "20/20 - 19s - loss: 0.5370 - acc: 0.7250 - val_loss: 0.5810 - val_acc: 0.6850\n",
            "Epoch 43/100\n",
            "20/20 - 19s - loss: 0.5459 - acc: 0.7210 - val_loss: 0.5702 - val_acc: 0.6960\n",
            "Epoch 44/100\n",
            "20/20 - 19s - loss: 0.5376 - acc: 0.7175 - val_loss: 0.5378 - val_acc: 0.7250\n",
            "Epoch 45/100\n",
            "20/20 - 19s - loss: 0.5384 - acc: 0.7340 - val_loss: 0.5023 - val_acc: 0.7360\n",
            "Epoch 46/100\n",
            "20/20 - 19s - loss: 0.5367 - acc: 0.7250 - val_loss: 0.5144 - val_acc: 0.7330\n",
            "Epoch 47/100\n",
            "20/20 - 19s - loss: 0.5484 - acc: 0.7220 - val_loss: 0.5073 - val_acc: 0.7410\n",
            "Epoch 48/100\n",
            "20/20 - 19s - loss: 0.5285 - acc: 0.7395 - val_loss: 0.5753 - val_acc: 0.7030\n",
            "Epoch 49/100\n",
            "20/20 - 19s - loss: 0.5297 - acc: 0.7385 - val_loss: 0.5026 - val_acc: 0.7410\n",
            "Epoch 50/100\n",
            "20/20 - 19s - loss: 0.5251 - acc: 0.7355 - val_loss: 0.5029 - val_acc: 0.7420\n",
            "Epoch 51/100\n",
            "20/20 - 19s - loss: 0.5286 - acc: 0.7430 - val_loss: 0.5016 - val_acc: 0.7420\n",
            "Epoch 52/100\n",
            "20/20 - 19s - loss: 0.5215 - acc: 0.7435 - val_loss: 0.5650 - val_acc: 0.7060\n",
            "Epoch 53/100\n",
            "20/20 - 19s - loss: 0.5255 - acc: 0.7485 - val_loss: 0.5108 - val_acc: 0.7320\n",
            "Epoch 54/100\n",
            "20/20 - 19s - loss: 0.5169 - acc: 0.7550 - val_loss: 0.5225 - val_acc: 0.7340\n",
            "Epoch 55/100\n",
            "20/20 - 19s - loss: 0.5232 - acc: 0.7370 - val_loss: 0.5020 - val_acc: 0.7330\n",
            "Epoch 56/100\n",
            "20/20 - 19s - loss: 0.5146 - acc: 0.7445 - val_loss: 0.4907 - val_acc: 0.7510\n",
            "Epoch 57/100\n",
            "20/20 - 19s - loss: 0.5192 - acc: 0.7385 - val_loss: 0.4892 - val_acc: 0.7460\n",
            "Epoch 58/100\n",
            "20/20 - 19s - loss: 0.5102 - acc: 0.7515 - val_loss: 0.4866 - val_acc: 0.7560\n",
            "Epoch 59/100\n",
            "20/20 - 19s - loss: 0.5160 - acc: 0.7470 - val_loss: 0.5299 - val_acc: 0.7150\n",
            "Epoch 60/100\n",
            "20/20 - 19s - loss: 0.5222 - acc: 0.7300 - val_loss: 0.5287 - val_acc: 0.7320\n",
            "Epoch 61/100\n",
            "20/20 - 19s - loss: 0.5132 - acc: 0.7480 - val_loss: 0.5572 - val_acc: 0.7190\n",
            "Epoch 62/100\n",
            "20/20 - 19s - loss: 0.5177 - acc: 0.7455 - val_loss: 0.6129 - val_acc: 0.6850\n",
            "Epoch 63/100\n",
            "20/20 - 19s - loss: 0.5140 - acc: 0.7450 - val_loss: 0.4923 - val_acc: 0.7540\n",
            "Epoch 64/100\n",
            "20/20 - 19s - loss: 0.5094 - acc: 0.7490 - val_loss: 0.4889 - val_acc: 0.7520\n",
            "Epoch 65/100\n",
            "20/20 - 19s - loss: 0.5123 - acc: 0.7500 - val_loss: 0.4916 - val_acc: 0.7530\n",
            "Epoch 66/100\n",
            "20/20 - 19s - loss: 0.5058 - acc: 0.7520 - val_loss: 0.4880 - val_acc: 0.7550\n",
            "Epoch 67/100\n",
            "20/20 - 19s - loss: 0.5135 - acc: 0.7390 - val_loss: 0.4889 - val_acc: 0.7610\n",
            "Epoch 68/100\n",
            "20/20 - 19s - loss: 0.5032 - acc: 0.7420 - val_loss: 0.4818 - val_acc: 0.7590\n",
            "Epoch 69/100\n",
            "20/20 - 19s - loss: 0.4980 - acc: 0.7655 - val_loss: 0.5874 - val_acc: 0.6920\n",
            "Epoch 70/100\n",
            "20/20 - 19s - loss: 0.4911 - acc: 0.7520 - val_loss: 0.4984 - val_acc: 0.7560\n",
            "Epoch 71/100\n",
            "20/20 - 18s - loss: 0.5019 - acc: 0.7565 - val_loss: 0.5909 - val_acc: 0.6990\n",
            "Epoch 72/100\n",
            "20/20 - 19s - loss: 0.5049 - acc: 0.7510 - val_loss: 0.5440 - val_acc: 0.7230\n",
            "Epoch 73/100\n",
            "20/20 - 19s - loss: 0.4873 - acc: 0.7645 - val_loss: 0.4716 - val_acc: 0.7630\n",
            "Epoch 74/100\n",
            "20/20 - 19s - loss: 0.4934 - acc: 0.7705 - val_loss: 0.4628 - val_acc: 0.7700\n",
            "Epoch 75/100\n",
            "20/20 - 18s - loss: 0.4877 - acc: 0.7610 - val_loss: 0.4728 - val_acc: 0.7640\n",
            "Epoch 76/100\n",
            "20/20 - 19s - loss: 0.4948 - acc: 0.7585 - val_loss: 0.4883 - val_acc: 0.7560\n",
            "Epoch 77/100\n",
            "20/20 - 18s - loss: 0.4948 - acc: 0.7655 - val_loss: 0.4819 - val_acc: 0.7630\n",
            "Epoch 78/100\n",
            "20/20 - 19s - loss: 0.4842 - acc: 0.7765 - val_loss: 0.5089 - val_acc: 0.7480\n",
            "Epoch 79/100\n",
            "20/20 - 18s - loss: 0.4836 - acc: 0.7655 - val_loss: 0.4714 - val_acc: 0.7680\n",
            "Epoch 80/100\n",
            "20/20 - 18s - loss: 0.4778 - acc: 0.7590 - val_loss: 0.5407 - val_acc: 0.7170\n",
            "Epoch 81/100\n",
            "20/20 - 18s - loss: 0.4710 - acc: 0.7675 - val_loss: 0.5147 - val_acc: 0.7510\n",
            "Epoch 82/100\n",
            "20/20 - 19s - loss: 0.4939 - acc: 0.7545 - val_loss: 0.4612 - val_acc: 0.7780\n",
            "Epoch 83/100\n",
            "20/20 - 18s - loss: 0.4807 - acc: 0.7760 - val_loss: 0.4618 - val_acc: 0.7710\n",
            "Epoch 84/100\n",
            "20/20 - 19s - loss: 0.4758 - acc: 0.7685 - val_loss: 0.4685 - val_acc: 0.7690\n",
            "Epoch 85/100\n",
            "20/20 - 18s - loss: 0.4825 - acc: 0.7640 - val_loss: 0.4764 - val_acc: 0.7640\n",
            "Epoch 86/100\n",
            "20/20 - 19s - loss: 0.4683 - acc: 0.7725 - val_loss: 0.4613 - val_acc: 0.7630\n",
            "Epoch 87/100\n",
            "20/20 - 18s - loss: 0.4742 - acc: 0.7740 - val_loss: 0.4513 - val_acc: 0.7740\n",
            "Epoch 88/100\n",
            "20/20 - 19s - loss: 0.4721 - acc: 0.7740 - val_loss: 0.4711 - val_acc: 0.7640\n",
            "Epoch 89/100\n",
            "20/20 - 19s - loss: 0.4742 - acc: 0.7690 - val_loss: 0.4861 - val_acc: 0.7690\n",
            "Epoch 90/100\n",
            "20/20 - 19s - loss: 0.4804 - acc: 0.7735 - val_loss: 0.5442 - val_acc: 0.7190\n",
            "Epoch 91/100\n",
            "20/20 - 18s - loss: 0.4780 - acc: 0.7595 - val_loss: 0.4848 - val_acc: 0.7840\n",
            "Epoch 92/100\n",
            "20/20 - 19s - loss: 0.4657 - acc: 0.7735 - val_loss: 0.5229 - val_acc: 0.7290\n",
            "Epoch 93/100\n",
            "20/20 - 19s - loss: 0.4820 - acc: 0.7645 - val_loss: 0.4553 - val_acc: 0.7790\n",
            "Epoch 94/100\n",
            "20/20 - 19s - loss: 0.4517 - acc: 0.7845 - val_loss: 0.4569 - val_acc: 0.7760\n",
            "Epoch 95/100\n",
            "20/20 - 19s - loss: 0.4576 - acc: 0.7840 - val_loss: 0.5103 - val_acc: 0.7600\n",
            "Epoch 96/100\n",
            "20/20 - 18s - loss: 0.4742 - acc: 0.7725 - val_loss: 0.4482 - val_acc: 0.7800\n",
            "Epoch 97/100\n",
            "20/20 - 19s - loss: 0.4542 - acc: 0.7965 - val_loss: 0.4763 - val_acc: 0.7720\n",
            "Epoch 98/100\n",
            "20/20 - 19s - loss: 0.4649 - acc: 0.7765 - val_loss: 0.4728 - val_acc: 0.7680\n",
            "Epoch 99/100\n",
            "20/20 - 19s - loss: 0.4483 - acc: 0.7925 - val_loss: 0.5719 - val_acc: 0.7120\n",
            "Epoch 100/100\n",
            "20/20 - 19s - loss: 0.4476 - acc: 0.7805 - val_loss: 0.5189 - val_acc: 0.7380\n"
          ],
          "name": "stdout"
        }
      ]
    },
    {
      "cell_type": "code",
      "metadata": {
        "id": "G9rTapIP72j3",
        "colab_type": "code",
        "colab": {
          "base_uri": "https://localhost:8080/",
          "height": 545
        },
        "outputId": "5a193ac0-833c-4831-a112-3752faf798f5"
      },
      "source": [
        "import matplotlib.pyplot as plt\n",
        "acc = history.history['acc']\n",
        "val_acc = history.history['val_acc']\n",
        "loss = history.history['loss']\n",
        "val_loss = history.history['val_loss']\n",
        "\n",
        "epochs = range(len(acc))\n",
        "\n",
        "plt.plot(epochs, acc, 'bo', label='Training accuracy')\n",
        "plt.plot(epochs, val_acc, 'b', label='Validation accuracy')\n",
        "plt.title('Training and validation accuracy')\n",
        "\n",
        "plt.figure()\n",
        "\n",
        "plt.plot(epochs, loss, 'bo', label='Training Loss')\n",
        "plt.plot(epochs, val_loss, 'b', label='Validation Loss')\n",
        "plt.title('Training and validation loss')\n",
        "plt.legend()\n",
        "\n",
        "plt.show()"
      ],
      "execution_count": null,
      "outputs": [
        {
          "output_type": "display_data",
          "data": {
            "image/png": "[encoded data removed]",
            "text/plain": [
              "<Figure size 432x288 with 1 Axes>"
            ]
          },
          "metadata": {
            "tags": [],
            "needs_background": "light"
          }
        },
        {
          "output_type": "display_data",
          "data": {
            "image/png": "[encoded data removed]",
            "text/plain": [
              "<Figure size 432x288 with 1 Axes>"
            ]
          },
          "metadata": {
            "tags": [],
            "needs_background": "light"
          }
        }
      ]
    },
    {
      "cell_type": "code",
      "metadata": {
        "id": "Al6zKpA6_9bb",
        "colab_type": "code",
        "colab": {
          "resources": {
            "http://localhost:8080/nbextensions/google.colab/files.js": {
              "data": "Ly8gQ29weXJpZ2h0IDIwMTcgR29vZ2xlIExMQwovLwovLyBMaWNlbnNlZCB1bmRlciB0aGUgQXBhY2hlIExpY2Vuc2UsIFZlcnNpb24gMi4wICh0aGUgIkxpY2Vuc2UiKTsKLy8geW91IG1heSBub3QgdXNlIHRoaXMgZmlsZSBleGNlcHQgaW4gY29tcGxpYW5jZSB3aXRoIHRoZSBMaWNlbnNlLgovLyBZb3UgbWF5IG9idGFpbiBhIGNvcHkgb2YgdGhlIExpY2Vuc2UgYXQKLy8KLy8gICAgICBodHRwOi8vd3d3LmFwYWNoZS5vcmcvbGljZW5zZXMvTElDRU5TRS0yLjAKLy8KLy8gVW5sZXNzIHJlcXVpcmVkIGJ5IGFwcGxpY2FibGUgbGF3IG9yIGFncmVlZCB0byBpbiB3cml0aW5nLCBzb2Z0d2FyZQovLyBkaXN0cmlidXRlZCB1bmRlciB0aGUgTGljZW5zZSBpcyBkaXN0cmlidXRlZCBvbiBhbiAiQVMgSVMiIEJBU0lTLAovLyBXSVRIT1VUIFdBUlJBTlRJRVMgT1IgQ09ORElUSU9OUyBPRiBBTlkgS0lORCwgZWl0aGVyIGV4cHJlc3Mgb3IgaW1wbGllZC4KLy8gU2VlIHRoZSBMaWNlbnNlIGZvciB0aGUgc3BlY2lmaWMgbGFuZ3VhZ2UgZ292ZXJuaW5nIHBlcm1pc3Npb25zIGFuZAovLyBsaW1pdGF0aW9ucyB1bmRlciB0aGUgTGljZW5zZS4KCi8qKgogKiBAZmlsZW92ZXJ2aWV3IEhlbHBlcnMgZm9yIGdvb2dsZS5jb2xhYiBQeXRob24gbW9kdWxlLgogKi8KKGZ1bmN0aW9uKHNjb3BlKSB7CmZ1bmN0aW9uIHNwYW4odGV4dCwgc3R5bGVBdHRyaWJ1dGVzID0ge30pIHsKICBjb25zdCBlbGVtZW50ID0gZG9jdW1lbnQuY3JlYXRlRWxlbWVudCgnc3BhbicpOwogIGVsZW1lbnQudGV4dENvbnRlbnQgPSB0ZXh0OwogIGZvciAoY29uc3Qga2V5IG9mIE9iamVjdC5rZXlzKHN0eWxlQXR0cmlidXRlcykpIHsKICAgIGVsZW1lbnQuc3R5bGVba2V5XSA9IHN0eWxlQXR0cmlidXRlc1trZXldOwogIH0KICByZXR1cm4gZWxlbWVudDsKfQoKLy8gTWF4IG51bWJlciBvZiBieXRlcyB3aGljaCB3aWxsIGJlIHVwbG9hZGVkIGF0IGEgdGltZS4KY29uc3QgTUFYX1BBWUxPQURfU0laRSA9IDEwMCAqIDEwMjQ7CgpmdW5jdGlvbiBfdXBsb2FkRmlsZXMoaW5wdXRJZCwgb3V0cHV0SWQpIHsKICBjb25zdCBzdGVwcyA9IHVwbG9hZEZpbGVzU3RlcChpbnB1dElkLCBvdXRwdXRJZCk7CiAgY29uc3Qgb3V0cHV0RWxlbWVudCA9IGRvY3VtZW50LmdldEVsZW1lbnRCeUlkKG91dHB1dElkKTsKICAvLyBDYWNoZSBzdGVwcyBvbiB0aGUgb3V0cHV0RWxlbWVudCB0byBtYWtlIGl0IGF2YWlsYWJsZSBmb3IgdGhlIG5leHQgY2FsbAogIC8vIHRvIHVwbG9hZEZpbGVzQ29udGludWUgZnJvbSBQeXRob24uCiAgb3V0cHV0RWxlbWVudC5zdGVwcyA9IHN0ZXBzOwoKICByZXR1cm4gX3VwbG9hZEZpbGVzQ29udGludWUob3V0cHV0SWQpOwp9CgovLyBUaGlzIGlzIHJvdWdobHkgYW4gYXN5bmMgZ2VuZXJhdG9yIChub3Qgc3VwcG9ydGVkIGluIHRoZSBicm93c2VyIHlldCksCi8vIHdoZXJlIHRoZXJlIGFyZSBtdWx0aXBsZSBhc3luY2hyb25vdXMgc3RlcHMgYW5kIHRoZSBQeXRob24gc2lkZSBpcyBnb2luZwovLyB0byBwb2xsIGZvciBjb21wbGV0aW9uIG9mIGVhY2ggc3RlcC4KLy8gVGhpcyB1c2VzIGEgUHJvbWlzZSB0byBibG9jayB0aGUgcHl0aG9uIHNpZGUgb24gY29tcGxldGlvbiBvZiBlYWNoIHN0ZXAsCi8vIHRoZW4gcGFzc2VzIHRoZSByZXN1bHQgb2YgdGhlIHByZXZpb3VzIHN0ZXAgYXMgdGhlIGlucHV0IHRvIHRoZSBuZXh0IHN0ZXAuCmZ1bmN0aW9uIF91cGxvYWRGaWxlc0NvbnRpbnVlKG91dHB1dElkKSB7CiAgY29uc3Qgb3V0cHV0RWxlbWVudCA9IGRvY3VtZW50LmdldEVsZW1lbnRCeUlkKG91dHB1dElkKTsKICBjb25zdCBzdGVwcyA9IG91dHB1dEVsZW1lbnQuc3RlcHM7CgogIGNvbnN0IG5leHQgPSBzdGVwcy5uZXh0KG91dHB1dEVsZW1lbnQubGFzdFByb21pc2VWYWx1ZSk7CiAgcmV0dXJuIFByb21pc2UucmVzb2x2ZShuZXh0LnZhbHVlLnByb21pc2UpLnRoZW4oKHZhbHVlKSA9PiB7CiAgICAvLyBDYWNoZSB0aGUgbGFzdCBwcm9taXNlIHZhbHVlIHRvIG1ha2UgaXQgYXZhaWxhYmxlIHRvIHRoZSBuZXh0CiAgICAvLyBzdGVwIG9mIHRoZSBnZW5lcmF0b3IuCiAgICBvdXRwdXRFbGVtZW50Lmxhc3RQcm9taXNlVmFsdWUgPSB2YWx1ZTsKICAgIHJldHVybiBuZXh0LnZhbHVlLnJlc3BvbnNlOwogIH0pOwp9CgovKioKICogR2VuZXJhdG9yIGZ1bmN0aW9uIHdoaWNoIGlzIGNhbGxlZCBiZXR3ZWVuIGVhY2ggYXN5bmMgc3RlcCBvZiB0aGUgdXBsb2FkCiAqIHByb2Nlc3MuCiAqIEBwYXJhbSB7c3RyaW5nfSBpbnB1dElkIEVsZW1lbnQgSUQgb2YgdGhlIGlucHV0IGZpbGUgcGlja2VyIGVsZW1lbnQuCiAqIEBwYXJhbSB7c3RyaW5nfSBvdXRwdXRJZCBFbGVtZW50IElEIG9mIHRoZSBvdXRwdXQgZGlzcGxheS4KICogQHJldHVybiB7IUl0ZXJhYmxlPCFPYmplY3Q+fSBJdGVyYWJsZSBvZiBuZXh0IHN0ZXBzLgogKi8KZnVuY3Rpb24qIHVwbG9hZEZpbGVzU3RlcChpbnB1dElkLCBvdXRwdXRJZCkgewogIGNvbnN0IGlucHV0RWxlbWVudCA9IGRvY3VtZW50LmdldEVsZW1lbnRCeUlkKGlucHV0SWQpOwogIGlucHV0RWxlbWVudC5kaXNhYmxlZCA9IGZhbHNlOwoKICBjb25zdCBvdXRwdXRFbGVtZW50ID0gZG9jdW1lbnQuZ2V0RWxlbWVudEJ5SWQob3V0cHV0SWQpOwogIG91dHB1dEVsZW1lbnQuaW5uZXJIVE1MID0gJyc7CgogIGNvbnN0IHBpY2tlZFByb21pc2UgPSBuZXcgUHJvbWlzZSgocmVzb2x2ZSkgPT4gewogICAgaW5wdXRFbGVtZW50LmFkZEV2ZW50TGlzdGVuZXIoJ2NoYW5nZScsIChlKSA9PiB7CiAgICAgIHJlc29sdmUoZS50YXJnZXQuZmlsZXMpOwogICAgfSk7CiAgfSk7CgogIGNvbnN0IGNhbmNlbCA9IGRvY3VtZW50LmNyZWF0ZUVsZW1lbnQoJ2J1dHRvbicpOwogIGlucHV0RWxlbWVudC5wYXJlbnRFbGVtZW50LmFwcGVuZENoaWxkKGNhbmNlbCk7CiAgY2FuY2VsLnRleHRDb250ZW50ID0gJ0NhbmNlbCB1cGxvYWQnOwogIGNvbnN0IGNhbmNlbFByb21pc2UgPSBuZXcgUHJvbWlzZSgocmVzb2x2ZSkgPT4gewogICAgY2FuY2VsLm9uY2xpY2sgPSAoKSA9PiB7CiAgICAgIHJlc29sdmUobnVsbCk7CiAgICB9OwogIH0pOwoKICAvLyBXYWl0IGZvciB0aGUgdXNlciB0byBwaWNrIHRoZSBmaWxlcy4KICBjb25zdCBmaWxlcyA9IHlpZWxkIHsKICAgIHByb21pc2U6IFByb21pc2UucmFjZShbcGlja2VkUHJvbWlzZSwgY2FuY2VsUHJvbWlzZV0pLAogICAgcmVzcG9uc2U6IHsKICAgICAgYWN0aW9uOiAnc3RhcnRpbmcnLAogICAgfQogIH07CgogIGNhbmNlbC5yZW1vdmUoKTsKCiAgLy8gRGlzYWJsZSB0aGUgaW5wdXQgZWxlbWVudCBzaW5jZSBmdXJ0aGVyIHBpY2tzIGFyZSBub3QgYWxsb3dlZC4KICBpbnB1dEVsZW1lbnQuZGlzYWJsZWQgPSB0cnVlOwoKICBpZiAoIWZpbGVzKSB7CiAgICByZXR1cm4gewogICAgICByZXNwb25zZTogewogICAgICAgIGFjdGlvbjogJ2NvbXBsZXRlJywKICAgICAgfQogICAgfTsKICB9CgogIGZvciAoY29uc3QgZmlsZSBvZiBmaWxlcykgewogICAgY29uc3QgbGkgPSBkb2N1bWVudC5jcmVhdGVFbGVtZW50KCdsaScpOwogICAgbGkuYXBwZW5kKHNwYW4oZmlsZS5uYW1lLCB7Zm9udFdlaWdodDogJ2JvbGQnfSkpOwogICAgbGkuYXBwZW5kKHNwYW4oCiAgICAgICAgYCgke2ZpbGUudHlwZSB8fCAnbi9hJ30pIC0gJHtmaWxlLnNpemV9IGJ5dGVzLCBgICsKICAgICAgICBgbGFzdCBtb2RpZmllZDogJHsKICAgICAgICAgICAgZmlsZS5sYXN0TW9kaWZpZWREYXRlID8gZmlsZS5sYXN0TW9kaWZpZWREYXRlLnRvTG9jYWxlRGF0ZVN0cmluZygpIDoKICAgICAgICAgICAgICAgICAgICAgICAgICAgICAgICAgICAgJ24vYSd9IC0gYCkpOwogICAgY29uc3QgcGVyY2VudCA9IHNwYW4oJzAlIGRvbmUnKTsKICAgIGxpLmFwcGVuZENoaWxkKHBlcmNlbnQpOwoKICAgIG91dHB1dEVsZW1lbnQuYXBwZW5kQ2hpbGQobGkpOwoKICAgIGNvbnN0IGZpbGVEYXRhUHJvbWlzZSA9IG5ldyBQcm9taXNlKChyZXNvbHZlKSA9PiB7CiAgICAgIGNvbnN0IHJlYWRlciA9IG5ldyBGaWxlUmVhZGVyKCk7CiAgICAgIHJlYWRlci5vbmxvYWQgPSAoZSkgPT4gewogICAgICAgIHJlc29sdmUoZS50YXJnZXQucmVzdWx0KTsKICAgICAgfTsKICAgICAgcmVhZGVyLnJlYWRBc0FycmF5QnVmZmVyKGZpbGUpOwogICAgfSk7CiAgICAvLyBXYWl0IGZvciB0aGUgZGF0YSB0byBiZSByZWFkeS4KICAgIGxldCBmaWxlRGF0YSA9IHlpZWxkIHsKICAgICAgcHJvbWlzZTogZmlsZURhdGFQcm9taXNlLAogICAgICByZXNwb25zZTogewogICAgICAgIGFjdGlvbjogJ2NvbnRpbnVlJywKICAgICAgfQogICAgfTsKCiAgICAvLyBVc2UgYSBjaHVua2VkIHNlbmRpbmcgdG8gYXZvaWQgbWVzc2FnZSBzaXplIGxpbWl0cy4gU2VlIGIvNjIxMTU2NjAuCiAgICBsZXQgcG9zaXRpb24gPSAwOwogICAgd2hpbGUgKHBvc2l0aW9uIDwgZmlsZURhdGEuYnl0ZUxlbmd0aCkgewogICAgICBjb25zdCBsZW5ndGggPSBNYXRoLm1pbihmaWxlRGF0YS5ieXRlTGVuZ3RoIC0gcG9zaXRpb24sIE1BWF9QQVlMT0FEX1NJWkUpOwogICAgICBjb25zdCBjaHVuayA9IG5ldyBVaW50OEFycmF5KGZpbGVEYXRhLCBwb3NpdGlvbiwgbGVuZ3RoKTsKICAgICAgcG9zaXRpb24gKz0gbGVuZ3RoOwoKICAgICAgY29uc3QgYmFzZTY0ID0gYnRvYShTdHJpbmcuZnJvbUNoYXJDb2RlLmFwcGx5KG51bGwsIGNodW5rKSk7CiAgICAgIHlpZWxkIHsKICAgICAgICByZXNwb25zZTogewogICAgICAgICAgYWN0aW9uOiAnYXBwZW5kJywKICAgICAgICAgIGZpbGU6IGZpbGUubmFtZSwKICAgICAgICAgIGRhdGE6IGJhc2U2NCwKICAgICAgICB9LAogICAgICB9OwogICAgICBwZXJjZW50LnRleHRDb250ZW50ID0KICAgICAgICAgIGAke01hdGgucm91bmQoKHBvc2l0aW9uIC8gZmlsZURhdGEuYnl0ZUxlbmd0aCkgKiAxMDApfSUgZG9uZWA7CiAgICB9CiAgfQoKICAvLyBBbGwgZG9uZS4KICB5aWVsZCB7CiAgICByZXNwb25zZTogewogICAgICBhY3Rpb246ICdjb21wbGV0ZScsCiAgICB9CiAgfTsKfQoKc2NvcGUuZ29vZ2xlID0gc2NvcGUuZ29vZ2xlIHx8IHt9OwpzY29wZS5nb29nbGUuY29sYWIgPSBzY29wZS5nb29nbGUuY29sYWIgfHwge307CnNjb3BlLmdvb2dsZS5jb2xhYi5fZmlsZXMgPSB7CiAgX3VwbG9hZEZpbGVzLAogIF91cGxvYWRGaWxlc0NvbnRpbnVlLAp9Owp9KShzZWxmKTsK",
              "ok": true,
              "headers": [
                [
                  "content-type",
                  "application/javascript"
                ]
              ],
              "status": 200,
              "status_text": ""
            }
          },
          "base_uri": "https://localhost:8080/",
          "height": 106
        },
        "outputId": "460ae02e-e006-4101-b9b7-4a204b72624c"
      },
      "source": [
        "import numpy as np\n",
        "from google.colab import files\n",
        "from keras.preprocessing import image\n",
        "\n",
        "uploaded = files.upload()\n",
        "\n",
        "for fn in uploaded.keys():\n",
        " \n",
        "  # predicting images\n",
        "  path = '/content/' + fn\n",
        "  img = image.load_img(path, target_size=(150, 150))\n",
        "  x = image.img_to_array(img)\n",
        "  x = np.expand_dims(x, axis=0)\n",
        "\n",
        "  images = np.vstack([x])\n",
        "  classes = model.predict(images, batch_size=10)\n",
        "  print(classes[0])\n",
        "  if classes[0]>0.5:\n",
        "    print(fn + \" is a dog\")\n",
        "  else:\n",
        "    print(fn + \" is a cat\")"
      ],
      "execution_count": null,
      "outputs": [
        {
          "output_type": "display_data",
          "data": {
            "text/html": [
              "\n",
              "     <input type=\"file\" id=\"files-1d44a3cf-e944-4d6c-a457-31e02cdfd7ca\" name=\"files[]\" multiple disabled\n",
              "        style=\"border:none\" />\n",
              "     <output id=\"result-1d44a3cf-e944-4d6c-a457-31e02cdfd7ca\">\n",
              "      Upload widget is only available when the cell has been executed in the\n",
              "      current browser session. Please rerun this cell to enable.\n",
              "      </output>\n",
              "      <script src=\"/nbextensions/google.colab/files.js\"></script> "
            ],
            "text/plain": [
              "<IPython.core.display.HTML object>"
            ]
          },
          "metadata": {
            "tags": []
          }
        },
        {
          "output_type": "stream",
          "text": [
            "Saving cat.2043.jpg to cat.2043.jpg\n",
            "[0.]\n",
            "cat.2043.jpg is a cat\n"
          ],
          "name": "stdout"
        }
      ]
    },
    {
      "cell_type": "code",
      "metadata": {
        "id": "CcyWEk4-xO3b",
        "colab_type": "code",
        "colab": {}
      },
      "source": [
        "from keras.models import save_model\n",
        "\n",
        "model.save(\"/content/drive/My Drive/Cat and Dog Classification/output_model_.h5\")"
      ],
      "execution_count": null,
      "outputs": []
    },
    {
      "cell_type": "code",
      "metadata": {
        "id": "NW4uQu29y3Av",
        "colab_type": "code",
        "colab": {}
      },
      "source": [
        ""
      ],
      "execution_count": null,
      "outputs": []
    }
  ]
}